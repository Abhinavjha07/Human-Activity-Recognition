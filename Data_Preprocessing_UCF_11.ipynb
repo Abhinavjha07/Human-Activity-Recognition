{
  "nbformat": 4,
  "nbformat_minor": 0,
  "metadata": {
    "colab": {
      "name": "Untitled",
      "version": "0.3.2",
      "provenance": [],
      "collapsed_sections": [],
      "toc_visible": true,
      "include_colab_link": true
    },
    "kernelspec": {
      "name": "python3",
      "display_name": "Python 3"
    },
    "accelerator": "GPU"
  },
  "cells": [
    {
      "cell_type": "markdown",
      "metadata": {
        "id": "view-in-github",
        "colab_type": "text"
      },
      "source": [
        "<a href=\"https://colab.research.google.com/github/Abhinavjha07/Human-Activity-Recognition/blob/master/Data_Preprocessing_UCF_11.ipynb\" target=\"_parent\"><img src=\"https://colab.research.google.com/assets/colab-badge.svg\" alt=\"Open In Colab\"/></a>"
      ]
    },
    {
      "metadata": {
        "id": "RRoz6N-x3cTR",
        "colab_type": "code",
        "outputId": "89f9282d-a441-4ba6-bfb2-d86b72f0b7cc",
        "colab": {
          "base_uri": "https://localhost:8080/",
          "height": 121
        }
      },
      "cell_type": "code",
      "source": [
        "!git clone https://github.com/Abhinavjha07/ML_Datasets/"
      ],
      "execution_count": 0,
      "outputs": [
        {
          "output_type": "stream",
          "text": [
            "Cloning into 'ML_Datasets'...\n",
            "remote: Enumerating objects: 40593, done.\u001b[K\n",
            "remote: Total 40593 (delta 0), reused 0 (delta 0), pack-reused 40593\u001b[K\n",
            "Receiving objects: 100% (40593/40593), 1.35 GiB | 31.01 MiB/s, done.\n",
            "Resolving deltas: 100% (1251/1251), done.\n",
            "Checking out files: 100% (40509/40509), done.\n"
          ],
          "name": "stdout"
        }
      ]
    },
    {
      "metadata": {
        "id": "P7Io1wuAdXi7",
        "colab_type": "code",
        "colab": {}
      },
      "cell_type": "code",
      "source": [
        "import cv2\n",
        "import numpy as np\n",
        "import os\n",
        "from tqdm import tqdm\n",
        "\n",
        "directory = '/content/ML_Datasets/UCF_11'\n",
        "\n",
        "classes = {\n",
        "    'basketball' : 0,\n",
        "    'biking' : 1,\n",
        "    'diving' : 2,\n",
        "    'golf_swing' : 3,\n",
        "    'horse_riding' : 4,\n",
        "    'soccer_juggling' : 5,\n",
        "    'swing' : 6,\n",
        "    'tennis_swing' : 7,\n",
        "    'trampoline_jumping' : 8,\n",
        "    'volleyball_spiking' : 9,\n",
        "    'walking' : 10\n",
        "    }\n",
        "\n",
        "Y = []\n",
        "X = []\n",
        "for c in os.listdir(directory):\n",
        "    print(c)\n",
        "    if c != 'readme.txt':\n",
        "        label = classes[c]\n",
        "        d = directory + '/'+c\n",
        "        for x in os.listdir(d):\n",
        "            if x != 'Annotation':\n",
        "                z = d+'/'+x\n",
        "                for file in os.listdir(z):\n",
        "                    cap = cv2.VideoCapture(z+'/'+file)\n",
        "                    fgbg = cv2.bgsegm.createBackgroundSubtractorMOG()\n",
        "                    frames = []\n",
        "                    i = 0\n",
        "                    while(cap.isOpened()):\n",
        "                        ret,fr = cap.read()\n",
        "                        if ret!=True:\n",
        "                            break\n",
        "\n",
        "                        fr = cv2.cvtColor(fr,cv2.COLOR_BGR2GRAY)\n",
        "                        fr = cv2.resize(fr,(64,64),interpolation = cv2.INTER_LINEAR)\n",
        "                        fr = fgbg.apply(fr)\n",
        "\n",
        "                        if i%3 == 0:\n",
        "                            frames.append(np.array(fr))\n",
        "\n",
        "                        i += 1\n",
        "                    if len(frames) == 0:\n",
        "                        print(c,x,file)\n",
        "                    if len(frames) != 0:\n",
        "                        X.append(np.array(frames))\n",
        "                        Y.append(np.array(label))\n",
        "\n",
        "\n",
        "\n",
        "X = np.array(X)\n",
        "Y = np.array(Y)\n",
        "\n",
        "\n",
        "print(X.shape)\n",
        "print(Y.shape)\n",
        "train_X = []\n",
        "for i in range(X.shape[0]):\n",
        "    print(X[i].shape)\n",
        "    if X[i].shape[0] < 50:\n",
        "        temp = np.zeros((50,64,64))\n",
        "        temp[0:X[i].shape[0],:,:] = X[i][0]\n",
        "        \n",
        "    else:\n",
        "        temp = X[i][0:50,:,:]\n",
        "\n",
        "    train_X.append(temp)\n",
        "\n",
        "train_X = np.array(train_X)\n",
        "print(train_X.shape)\n",
        "Y = np.reshape()\n",
        "print(Y.shape) \n",
        "\n",
        "np.save('X.npy',train_X)\n",
        "np.save('Y.npy',Y)\n",
        " \n",
        "   \n",
        "    \n"
      ],
      "execution_count": 0,
      "outputs": []
    },
    {
      "metadata": {
        "id": "AoqEWg40BU7c",
        "colab_type": "code",
        "colab": {
          "base_uri": "https://localhost:8080/",
          "height": 69
        },
        "outputId": "ce12a792-d620-4690-d6a0-90023f56e5b0"
      },
      "cell_type": "code",
      "source": [
        "import numpy as np\n",
        "from keras.utils import to_categorical\n",
        "X = np.load('X.npy')\n",
        "Y = np.load('Y.npy')\n",
        "Y = to_categorical(Y)\n",
        "np.save('Y.npy',Y)\n",
        "print(X.shape)\n",
        "print(Y.shape)"
      ],
      "execution_count": 19,
      "outputs": [
        {
          "output_type": "stream",
          "text": [
            "Using TensorFlow backend.\n"
          ],
          "name": "stderr"
        },
        {
          "output_type": "stream",
          "text": [
            "(1652, 50, 64, 64)\n",
            "(1652, 11)\n"
          ],
          "name": "stdout"
        }
      ]
    }
  ]
}